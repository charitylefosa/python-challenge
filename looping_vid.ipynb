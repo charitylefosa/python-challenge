{
  "nbformat": 4,
  "nbformat_minor": 0,
  "metadata": {
    "colab": {
      "provenance": [],
      "authorship_tag": "ABX9TyNCNEEYTsHcJr2GL9Syv/Ew",
      "include_colab_link": true
    },
    "kernelspec": {
      "name": "python3",
      "display_name": "Python 3"
    },
    "language_info": {
      "name": "python"
    }
  },
  "cells": [
    {
      "cell_type": "markdown",
      "metadata": {
        "id": "view-in-github",
        "colab_type": "text"
      },
      "source": [
        "<a href=\"https://colab.research.google.com/github/charitylefosa/python-challenge/blob/main/looping_vid.ipynb\" target=\"_parent\"><img src=\"https://colab.research.google.com/assets/colab-badge.svg\" alt=\"Open In Colab\"/></a>"
      ]
    },
    {
      "cell_type": "markdown",
      "source": [
        "LEARNING PYTHON - USING https://www.youtube.com/@derekbanas\n",
        "Highly recommend his lessons, they have helped a lot"
      ],
      "metadata": {
        "id": "NzJX78zrU3L6"
      }
    },
    {
      "cell_type": "code",
      "source": [
        "# int, floats, strings\n",
        "# asking user for input *NB* All inputs are strings regardles of wheather it is a number\n",
        "\n",
        "# calculate the user's earnings afetr n years\n",
        "\n",
        "user_details = input(\"What is your name and surname: \")\n",
        "investment = input(\"How much is your investment: \")\n",
        "interest = input(\"Add your % interest: \")\n",
        "\n",
        "investment = float(investment)\n",
        "interest = float(interest)\n",
        "\n",
        "pec_interest = interest / 100 #invest 0.01\n",
        "earning = investment * pec_interest #50\n",
        "\n",
        "num_of_invest_year = input(\"how many years of investment are you checking: \")\n",
        "num_of_invest_year = int(num_of_invest_year)\n",
        "\n",
        "earning_of_the_num_years = investment + (earning * num_of_invest_year)\n",
        "\n",
        "print(\"Your eaning after {:d} years will be R{:.2f}\".format(num_of_invest_year, earning_of_the_num_years))"
      ],
      "metadata": {
        "colab": {
          "base_uri": "https://localhost:8080/"
        },
        "id": "jPCUPjuiUtel",
        "outputId": "1deb528e-be5c-4538-fa63-b9086570d5e2"
      },
      "execution_count": null,
      "outputs": [
        {
          "output_type": "stream",
          "name": "stdout",
          "text": [
            "What is your name and surname: polao lefofa\n",
            "How much is your investment: 500\n",
            "Add your % interest: 15\n",
            "how many years of investment are you checking: 10\n",
            "Your eaning after 10 years will be R1250.00\n"
          ]
        }
      ]
    },
    {
      "cell_type": "code",
      "source": [
        " # while loop - used for true or false cases\n",
        " # used when the number of times you want to loop are not known\n",
        "\n",
        "\n",
        "#using a random module\n",
        "\n",
        "import random\n",
        "\n",
        "num = random.randrange(1, 51) # will give me random number between 1 and 51\n",
        "\n",
        "i = 6\n",
        "\n",
        "while i != num:\n",
        "  i += 1\n",
        "\n",
        "print(num)\n"
      ],
      "metadata": {
        "colab": {
          "base_uri": "https://localhost:8080/"
        },
        "id": "7M66zlnuWAQE",
        "outputId": "a3d22cb4-f354-43de-d788-ab5cc95dc265"
      },
      "execution_count": null,
      "outputs": [
        {
          "output_type": "stream",
          "name": "stdout",
          "text": [
            "19\n"
          ]
        }
      ]
    },
    {
      "cell_type": "code",
      "source": [
        "# break - jump completely out of the loop\n",
        "# continue - stop excuting code remaining inthe loop to jump back ontop of the loop\n",
        "\n",
        "i = 2\n",
        "\n",
        "while i <= 20:\n",
        "  if (i % 2) == False: #check if is an even numb or not, if is is not it passes to the next if statement\n",
        "    i += 1 #if above condition is met, i is incemented by 1\n",
        "    continue #skip rest of current iteration and move to next\n",
        "  if i == 15:\n",
        "    break\n",
        "\n",
        "  print(\"odd: {}\".format(i))\n",
        "\n",
        "  i += 1"
      ],
      "metadata": {
        "colab": {
          "base_uri": "https://localhost:8080/"
        },
        "id": "L5YovMqTkiUO",
        "outputId": "32237dc7-cd3e-4609-e27b-573ecddbc8f6"
      },
      "execution_count": null,
      "outputs": [
        {
          "output_type": "stream",
          "name": "stdout",
          "text": [
            "odd: 3\n",
            "odd: 5\n",
            "odd: 7\n",
            "odd: 9\n",
            "odd: 11\n",
            "odd: 13\n"
          ]
        }
      ]
    },
    {
      "cell_type": "code",
      "source": [
        "# printing a # tree according to the user's height\n",
        "# will come back to this , my tree is not 100%\n",
        "\n",
        "height = int(input(\"How tall is your tree: \"))\n",
        "\n",
        "\n",
        "\n",
        "i = 1\n",
        "while i <= height:\n",
        "  if (i % 2) == False: #check if is an even numb or not, if is is not it passes to the next if statement\n",
        "    i += 1 #if above condition is met, i is incemented by 1\n",
        "    continue #skip rest of current iteration and move to next\n",
        "  if i == height:\n",
        "    break\n",
        "\n",
        "  my_hash = (i * '#')\n",
        "  print(my_hash)\n",
        "  i += 1\n",
        "print('#')"
      ],
      "metadata": {
        "colab": {
          "base_uri": "https://localhost:8080/"
        },
        "id": "mBP-w9jiqFj5",
        "outputId": "08fb3e33-f1d0-4802-af9f-92fb0a7afe95"
      },
      "execution_count": null,
      "outputs": [
        {
          "output_type": "stream",
          "name": "stdout",
          "text": [
            "How tall is your tree: 5\n",
            "#\n",
            "###\n",
            "#\n"
          ]
        }
      ]
    },
    {
      "cell_type": "code",
      "source": [
        "# Exception Handling\n",
        "\n",
        "while True:# to keep looping until the condition in try is true\n",
        "  try:\n",
        "    num = int(input(\"Enter number: \"))\n",
        "    break # to leave the while loop\n",
        "\n",
        "  except ValueError: #if user input anthing but a number, this is when we know the Eror we may get\n",
        "    print(\"Number you entered is invalid\")\n",
        "\n",
        "  except: #when we do not know what error the code could get\n",
        "    print(\"Unknown error occured\")\n",
        "print(num)"
      ],
      "metadata": {
        "id": "9UTPlzkN0n5A",
        "colab": {
          "base_uri": "https://localhost:8080/"
        },
        "outputId": "786b13f1-d014-41e6-ba0a-c57a9626acd7"
      },
      "execution_count": null,
      "outputs": [
        {
          "output_type": "stream",
          "name": "stdout",
          "text": [
            "Enter number: Charity\n",
            "Number you entered is invalid\n",
            "Enter number: 67\n",
            "67\n"
          ]
        }
      ]
    },
    {
      "cell_type": "code",
      "source": [
        "# math strings\n",
        "\n",
        "import math\n",
        "\n",
        "print(\"ceiling(4.4) = \", math.ceil(4.4)) # rounds up, not taking into consideration if the decimal is below or above 5 as the normal math rounding\n",
        "print(\"floor(4.4) = \", math.floor(4.4)) # rounds down, not taking into consideration if the decimal is below or above 5 as the normal math rounding\n",
        "print(\"fabs(4.4) = \", math.fabs(-4.4)) # getting the absolute value\n",
        "print(\"factorial(4) = \", math.factorial(4)) # getting factorial until the num u provided e.g 1 * 2 * 3 * 4\n",
        "print(\"fmod(5,4) = \", math.fmod(5,4)) # return reminder after division , in this case 5 / 4, 1 is left just like module function\n",
        "print(\"trunc(4.4) = \", math.trunc(-4.4)) # receives float and return it as an int\n",
        "print(\"pow(4,4) = \", math.pow(4,4)) # power of 2 numbers\n",
        "print(\"sqrt(4) = \", math.sqrt(4)) # squareroot of 4\n",
        "print(\"math.e = \", math.e) # e value\n",
        "print(\"math.pi= \", math.pi) # pi vale\n",
        "print(\"exp(4) = \", math.exp(4)) # exponent\n",
        "print(\"log(20) = \", math.log(20)) # return natural log, e.g e * e * e ~= 20 can also be written as e^3 ~= 20\n",
        "print(\"log(1000,10) = \", math.log(1000,10)) # can define base and 10^3 ~= 1000 , e in this case is 10\n",
        "print(\"log10(1000) = \", math.log10(1000)) # another way to define base\n",
        "print(\"degrees(1.5708) = \", math.degrees(1.5708)) # convert radian to degrees\n",
        "print(\"radians(90) = \", math.radians(90)) # convert degrees to radian"
      ],
      "metadata": {
        "id": "tbiiHJuL-yKa",
        "colab": {
          "base_uri": "https://localhost:8080/"
        },
        "outputId": "b72a691c-836a-4d72-983b-718b9609a47b"
      },
      "execution_count": null,
      "outputs": [
        {
          "output_type": "stream",
          "name": "stdout",
          "text": [
            "ceiling(4.4) =  5\n",
            "floor(4.4) =  4\n",
            "fabs(4.4) =  4.4\n",
            "factorial(4) =  24\n",
            "fmod(5,4) =  1.0\n",
            "trunc(4.4) =  -4\n",
            "pow(4,4) =  256.0\n",
            "sqrt(4) =  2.0\n",
            "math.e =  2.718281828459045\n",
            "math.pi=  3.141592653589793\n",
            "exp(4) =  54.598150033144236\n",
            "log(20) =  2.995732273553991\n",
            "log(1000,10) =  2.9999999999999996\n",
            "log10(1000) =  3.0\n",
            "degrees(1.5708) =  90.00021045914971\n",
            "radians(90) =  1.5707963267948966\n"
          ]
        }
      ]
    },
    {
      "cell_type": "code",
      "source": [
        "# decimal module\n",
        "# dont really understand the way he explained this, but will do more research on it\n",
        "\n",
        "from decimal import Decimal as D\n",
        "\n",
        "sum = D(0)\n",
        "sum += D(\"0.1\")\n",
        "sum += D(\"0.1\")\n",
        "sum += D(\"0.1\")\n",
        "sum -= D(\"0.3\")\n",
        "\n",
        "print(\"Sum =\", sum)\n"
      ],
      "metadata": {
        "colab": {
          "base_uri": "https://localhost:8080/"
        },
        "id": "DeRikieySe-X",
        "outputId": "8b958e27-10a5-40d8-d245-b3482e672bd7"
      },
      "execution_count": null,
      "outputs": [
        {
          "output_type": "stream",
          "name": "stdout",
          "text": [
            "Sum = 0.0\n"
          ]
        }
      ]
    },
    {
      "cell_type": "code",
      "source": [
        "# can check type of a variable\n",
        "name = \"Charity\"\n",
        "age = 10\n",
        "weight = 83.5\n",
        "friends = ['Mcminn', 'Phefu', 'Miles']\n",
        "marks = (92.4, 5, 11, 27)\n",
        "\n",
        "print(type(name))\n",
        "print(type(age))\n",
        "print(type(weight))\n",
        "print(type(friends))\n",
        "print(type(marks))"
      ],
      "metadata": {
        "colab": {
          "base_uri": "https://localhost:8080/"
        },
        "id": "Zd7sAhAUmK5c",
        "outputId": "1586a9ec-19db-42df-80fd-74e087792230"
      },
      "execution_count": null,
      "outputs": [
        {
          "output_type": "stream",
          "name": "stdout",
          "text": [
            "<class 'str'>\n",
            "<class 'int'>\n",
            "<class 'float'>\n",
            "<class 'list'>\n",
            "<class 'tuple'>\n"
          ]
        }
      ]
    },
    {
      "cell_type": "code",
      "source": [
        "# string always use '' or \"\"\n",
        "\n",
        "string = \"This is an important string\"\n",
        "\n",
        "print(string[0]) # indexing\n",
        "print(string[-1])\n",
        "print(string[3+5]) # that is index 8\n",
        "print(string[1:4]) #get everything from index 1 to 4 exclusing 4\n",
        "\n",
        "print(len(string)) # getting length of a string\n",
        "\n",
        "print(\"Hello\\n\" * 5, end=\"\") # printing string 5 times and using end to remove the new ine at the end of last output\n",
        "\n",
        "num_string = str(4) # converting an int into a string\n",
        "\n",
        "for i in string:    # having a variable(e.g i) to hold each character in a string while using FOR LOOP\n",
        "  print(i, end=\"\")\n",
        "\n",
        "for i in range(0, len(string)-1, 2): #using range for the indexing, subtract 1 because indexing starts with 0 so it is less to len by 1 and 2 is added so i get the characters printed in pairs\n",
        "  print(string[i] + string[i+1])"
      ],
      "metadata": {
        "colab": {
          "base_uri": "https://localhost:8080/"
        },
        "id": "-l1xuOgxG2UA",
        "outputId": "f2f6751c-f480-49a6-fa4f-1be9a107ba12"
      },
      "execution_count": null,
      "outputs": [
        {
          "output_type": "stream",
          "name": "stdout",
          "text": [
            "T\n",
            "g\n",
            "a\n",
            "his\n",
            "27\n",
            "Hello\n",
            "Hello\n",
            "Hello\n",
            "Hello\n",
            "Hello\n",
            "This is an important stringTh\n",
            "is\n",
            " i\n",
            "s \n",
            "an\n",
            " i\n",
            "mp\n",
            "or\n",
            "ta\n",
            "nt\n",
            " s\n",
            "tr\n",
            "in\n"
          ]
        }
      ]
    },
    {
      "cell_type": "code",
      "source": [
        "# Unicodes, A -Z = 65 - 90, a -z = 97 - 122 (CHECK ASCII TABLE)\n",
        "\n",
        "print(\"A = \", ord(\"A\"))\n",
        "print(\"C = \", ord(\"C\"))\n",
        "print(\"P = \", ord(\"P\"))\n",
        "print(\"L = \", ord(\"L\"))\n",
        "print(\"p = \", ord(\"a\"))\n",
        "print(\"v = \", ord(\"v\"))\n",
        "\n",
        "print(\"65 = \", chr(65))\n",
        "print(\"67 = \", chr(67))\n",
        "print(\"80 = \", chr(80))\n",
        "print(\"76 = \", chr(76))\n",
        "print(\"97 = \", chr(97))\n",
        "print(\"118 = \", chr(118))"
      ],
      "metadata": {
        "colab": {
          "base_uri": "https://localhost:8080/"
        },
        "id": "Md0p7r_rUZGN",
        "outputId": "937630db-f91a-45ed-f967-df1298f91b41"
      },
      "execution_count": null,
      "outputs": [
        {
          "output_type": "stream",
          "name": "stdout",
          "text": [
            "A =  65\n",
            "C =  67\n",
            "P =  80\n",
            "L =  76\n",
            "p =  97\n",
            "v =  118\n",
            "65 =  A\n",
            "67 =  C\n",
            "80 =  P\n",
            "76 =  L\n",
            "97 =  a\n",
            "118 =  v\n"
          ]
        }
      ]
    },
    {
      "cell_type": "code",
      "source": [
        "# exercise\n",
        "import string\n",
        "# uppercse string and hide its meaning using Unicode the from Unicode back toits meaning\n",
        "upper_string = input(\"Enter Uppercase String: \")\n",
        "\n",
        "message = \"\"\n",
        "for i in upper_string:\n",
        "  num = str(ord(i))\n",
        "  message += num\n",
        "  print(message)\n",
        "\n"
      ],
      "metadata": {
        "colab": {
          "base_uri": "https://localhost:8080/"
        },
        "id": "GXAWAq9oZ-6L",
        "outputId": "6a53579a-cfb3-4b2e-cce5-95fad18aa504"
      },
      "execution_count": 29,
      "outputs": [
        {
          "output_type": "stream",
          "name": "stdout",
          "text": [
            "Enter Uppercase String: lo\n",
            "108\n",
            "108111\n"
          ]
        }
      ]
    },
    {
      "cell_type": "code",
      "source": [
        "#string functions\n",
        "\n",
        "string = \"  this is an important string   \"\n",
        "\n",
        "string = string.lstrip() #this is to remove the wide space on the left\n",
        "string = string.rstrip() #this is to remove the wide space on the right\n",
        "string = string.strip() #this is to remove all the wide spaces\n",
        "\n",
        "#when you want to capitalize the first letter of the string, can use capitalize when printing\n",
        "print(string.capitalize())\n",
        "\n",
        "#when you want the whole string to be uppercase or lowercase\n",
        "print(string.upper())\n",
        "print(string.lower())\n",
        "\n",
        "#can turn list into string, that is removing the separator\n",
        "list_w = [\"Charity\", \"2\",\"Miles\", \"3\", \"Alfred\", \"1\", \"Jay\", \"1\"]\n",
        "print(\"\".join(list_w))\n",
        "\n",
        "#can turn string into list\n",
        "\n",
        "list_2 = string.split()\n",
        "for i in list_2:\n",
        "  print(i)\n",
        "\n",
        "#counting how many times a string/character appearing inthe ling string\n",
        "print(\"There are {} is appearing in the string\".format(string.count(\"is\"))) #string\n",
        "print(\"There are {} i appearing in the string\".format(string.count(\"i\"))) #character\n",
        "\n",
        "#finding index of specific string inthe long string\n",
        "print(\"important starts at index {}\".format(string.find(\"important\")))\n",
        "\n",
        "#replace sub string with sub string\n",
        "print(\"We replacing is with are: New string is {}\".format(string.replace(\" is\", \"are\")))"
      ],
      "metadata": {
        "id": "yqzjD79pi0J1",
        "colab": {
          "base_uri": "https://localhost:8080/"
        },
        "outputId": "8d841ef1-1f25-42cf-d45f-c2dbc10a97c9"
      },
      "execution_count": 28,
      "outputs": [
        {
          "output_type": "stream",
          "name": "stdout",
          "text": [
            "This is an important string\n",
            "THIS IS AN IMPORTANT STRING\n",
            "this is an important string\n",
            "Charity2Miles3Alfred1Jay1\n",
            "this\n",
            "is\n",
            "an\n",
            "important\n",
            "string\n",
            "There are 2 is appearing in the string\n",
            "There are 4 i appearing in the string\n",
            "important starts at index 11\n",
            "We replacing is with are: New string is thisare an important string\n"
          ]
        }
      ]
    },
    {
      "cell_type": "code",
      "source": [],
      "metadata": {
        "id": "hIrT0r9IRQVi"
      },
      "execution_count": null,
      "outputs": []
    }
  ]
}
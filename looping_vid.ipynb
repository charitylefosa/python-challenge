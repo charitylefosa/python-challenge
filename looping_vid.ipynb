{
  "nbformat": 4,
  "nbformat_minor": 0,
  "metadata": {
    "colab": {
      "provenance": [],
      "authorship_tag": "ABX9TyPvQDaSpPbQq+Onz19xOHkC",
      "include_colab_link": true
    },
    "kernelspec": {
      "name": "python3",
      "display_name": "Python 3"
    },
    "language_info": {
      "name": "python"
    }
  },
  "cells": [
    {
      "cell_type": "markdown",
      "metadata": {
        "id": "view-in-github",
        "colab_type": "text"
      },
      "source": [
        "<a href=\"https://colab.research.google.com/github/charitylefosa/python-challenge/blob/main/looping_vid.ipynb\" target=\"_parent\"><img src=\"https://colab.research.google.com/assets/colab-badge.svg\" alt=\"Open In Colab\"/></a>"
      ]
    },
    {
      "cell_type": "markdown",
      "source": [
        "LEARNING PYTHON - USING https://www.youtube.com/@derekbanas\n",
        "Highly recommend his lessons, they have helped a lot"
      ],
      "metadata": {
        "id": "NzJX78zrU3L6"
      }
    },
    {
      "cell_type": "code",
      "source": [
        "# int, floats, strings\n",
        "# asking user for input *NB* All inputs are strings regardles of wheather it is a number\n",
        "\n",
        "# calculate the user's earnings afetr n years\n",
        "\n",
        "user_details = input(\"What is your name and surname: \")\n",
        "investment = input(\"How much is your investment: \")\n",
        "interest = input(\"Add your % interest: \")\n",
        "\n",
        "investment = float(investment)\n",
        "interest = float(interest)\n",
        "\n",
        "pec_interest = interest / 100 #invest 0.01\n",
        "earning = investment * pec_interest #50\n",
        "\n",
        "num_of_invest_year = input(\"how many years of investment are you checking: \")\n",
        "num_of_invest_year = int(num_of_invest_year)\n",
        "\n",
        "earning_of_the_num_years = investment + (earning * num_of_invest_year)\n",
        "\n",
        "print(\"Your eaning after {:d} years will be R{:.2f}\".format(num_of_invest_year, earning_of_the_num_years))"
      ],
      "metadata": {
        "colab": {
          "base_uri": "https://localhost:8080/"
        },
        "id": "jPCUPjuiUtel",
        "outputId": "1deb528e-be5c-4538-fa63-b9086570d5e2"
      },
      "execution_count": null,
      "outputs": [
        {
          "output_type": "stream",
          "name": "stdout",
          "text": [
            "What is your name and surname: polao lefofa\n",
            "How much is your investment: 500\n",
            "Add your % interest: 15\n",
            "how many years of investment are you checking: 10\n",
            "Your eaning after 10 years will be R1250.00\n"
          ]
        }
      ]
    },
    {
      "cell_type": "code",
      "source": [
        " # while loop - used for true or false cases\n",
        " # used when the number of times you want to loop are not known\n",
        "\n",
        "\n",
        "#using a random module\n",
        "\n",
        "import random\n",
        "\n",
        "num = random.randrange(1, 51) # will give me random number between 1 and 51\n",
        "\n",
        "i = 6\n",
        "\n",
        "while i != num:\n",
        "  i += 1\n",
        "\n",
        "print(num)\n"
      ],
      "metadata": {
        "colab": {
          "base_uri": "https://localhost:8080/"
        },
        "id": "7M66zlnuWAQE",
        "outputId": "a3d22cb4-f354-43de-d788-ab5cc95dc265"
      },
      "execution_count": null,
      "outputs": [
        {
          "output_type": "stream",
          "name": "stdout",
          "text": [
            "19\n"
          ]
        }
      ]
    },
    {
      "cell_type": "code",
      "source": [
        "# break - jump completely out of the loop\n",
        "# continue - stop excuting code remaining inthe loop to jump back ontop of the loop\n",
        "\n",
        "i = 2\n",
        "\n",
        "while i <= 20:\n",
        "  if (i % 2) == False: #check if is an even numb or not, if is is not it passes to the next if statement\n",
        "    i += 1 #if above condition is met, i is incemented by 1\n",
        "    continue #skip rest of current iteration and move to next\n",
        "  if i == 15:\n",
        "    break\n",
        "\n",
        "  print(\"odd: {}\".format(i))\n",
        "\n",
        "  i += 1"
      ],
      "metadata": {
        "colab": {
          "base_uri": "https://localhost:8080/"
        },
        "id": "L5YovMqTkiUO",
        "outputId": "32237dc7-cd3e-4609-e27b-573ecddbc8f6"
      },
      "execution_count": null,
      "outputs": [
        {
          "output_type": "stream",
          "name": "stdout",
          "text": [
            "odd: 3\n",
            "odd: 5\n",
            "odd: 7\n",
            "odd: 9\n",
            "odd: 11\n",
            "odd: 13\n"
          ]
        }
      ]
    },
    {
      "cell_type": "code",
      "source": [
        "# printing a # tree according to the user's height\n",
        "# will come back to this , my tree is not 100%\n",
        "\n",
        "height = int(input(\"How tall is your tree: \"))\n",
        "\n",
        "\n",
        "\n",
        "i = 1\n",
        "while i <= height:\n",
        "  if (i % 2) == False: #check if is an even numb or not, if is is not it passes to the next if statement\n",
        "    i += 1 #if above condition is met, i is incemented by 1\n",
        "    continue #skip rest of current iteration and move to next\n",
        "  if i == height:\n",
        "    break\n",
        "\n",
        "  my_hash = (i * '#')\n",
        "  print(my_hash)\n",
        "  i += 1\n",
        "print('#')"
      ],
      "metadata": {
        "colab": {
          "base_uri": "https://localhost:8080/"
        },
        "id": "mBP-w9jiqFj5",
        "outputId": "08fb3e33-f1d0-4802-af9f-92fb0a7afe95"
      },
      "execution_count": null,
      "outputs": [
        {
          "output_type": "stream",
          "name": "stdout",
          "text": [
            "How tall is your tree: 5\n",
            "#\n",
            "###\n",
            "#\n"
          ]
        }
      ]
    },
    {
      "cell_type": "code",
      "source": [
        "# Exception Handling\n",
        "\n",
        "while True:# to keep looping until the condition in try is true\n",
        "  try:\n",
        "    num = int(input(\"Enter number: \"))\n",
        "    break # to leave the while loop\n",
        "\n",
        "  except ValueError: #if user input anthing but a number, this is when we know the Eror we may get\n",
        "    print(\"Number you entered is invalid\")\n",
        "\n",
        "  except: #when we do not know what error the code could get\n",
        "    print(\"Unknown error occured\")\n",
        "print(num)"
      ],
      "metadata": {
        "id": "9UTPlzkN0n5A",
        "colab": {
          "base_uri": "https://localhost:8080/"
        },
        "outputId": "786b13f1-d014-41e6-ba0a-c57a9626acd7"
      },
      "execution_count": null,
      "outputs": [
        {
          "output_type": "stream",
          "name": "stdout",
          "text": [
            "Enter number: Charity\n",
            "Number you entered is invalid\n",
            "Enter number: 67\n",
            "67\n"
          ]
        }
      ]
    },
    {
      "cell_type": "code",
      "source": [],
      "metadata": {
        "id": "oIiGqc6t5Mhj"
      },
      "execution_count": null,
      "outputs": []
    },
    {
      "cell_type": "code",
      "source": [
        "# math strings"
      ],
      "metadata": {
        "id": "tbiiHJuL-yKa"
      },
      "execution_count": null,
      "outputs": []
    }
  ]
}
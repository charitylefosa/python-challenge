{
  "nbformat": 4,
  "nbformat_minor": 0,
  "metadata": {
    "colab": {
      "provenance": [],
      "authorship_tag": "ABX9TyO3cdYtlbxdCDJFEkjP0XS3",
      "include_colab_link": true
    },
    "kernelspec": {
      "name": "python3",
      "display_name": "Python 3"
    },
    "language_info": {
      "name": "python"
    }
  },
  "cells": [
    {
      "cell_type": "markdown",
      "metadata": {
        "id": "view-in-github",
        "colab_type": "text"
      },
      "source": [
        "<a href=\"https://colab.research.google.com/github/charitylefosa/python-challenge/blob/main/Bootcamp%20project.ipynb\" target=\"_parent\"><img src=\"https://colab.research.google.com/assets/colab-badge.svg\" alt=\"Open In Colab\"/></a>"
      ]
    },
    {
      "cell_type": "markdown",
      "source": [
        "**AI AND DATA SCIENCE BOOTCAMP FOR WOMAN IN SA PROJECT**\n",
        "\n",
        "**TOPIC:** Predictive Maintenance for Industrial Equipment: Build a predictive maintenance model using machine learning algorithms to predict when industrial equipment is likely to fail, enabling proactive maintenance and reducing downtime.\n",
        "\n",
        "**EQUIPMENT OF FOCUS** Railway equipment\n",
        "\n",
        "\n"
      ],
      "metadata": {
        "id": "GFlJeG9pqtbU"
      }
    },
    {
      "cell_type": "code",
      "source": [
        ""
      ],
      "metadata": {
        "id": "QO75oMXarN90"
      },
      "execution_count": null,
      "outputs": []
    }
  ]
}